{
 "cells": [
  {
   "cell_type": "code",
   "execution_count": 230,
   "metadata": {},
   "outputs": [],
   "source": [
    "def parent(i):\n",
    "    return i // 2\n",
    "\n",
    "def left(i):\n",
    "    return 2 * i\n",
    "\n",
    "def right(i):\n",
    "    return 2 * i + 1\n"
   ]
  },
  {
   "cell_type": "code",
   "execution_count": 231,
   "metadata": {},
   "outputs": [],
   "source": [
    "def max_heapify(arr, i,arr_heap_size):\n",
    "    l = left(i)\n",
    "    r = right(i)\n",
    "    largest = i\n",
    "\n",
    "    if l < arr_heap_size and arr[l] > arr[i]:\n",
    "        largest = l\n",
    "\n",
    "    if r < arr_heap_size and arr[r] > arr[largest]:\n",
    "        largest = r\n",
    "\n",
    "    if largest != i:\n",
    "        arr[i], arr[largest] = arr[largest], arr[i]\n",
    "        max_heapify(arr, largest,arr_heap_size)\n"
   ]
  },
  {
   "cell_type": "code",
   "execution_count": 232,
   "metadata": {},
   "outputs": [],
   "source": [
    "def build_max_heap(arr):\n",
    "    arr_heap_size = len(arr)\n",
    "    for i in range(len(arr)//2, -1, -1):\n",
    "        max_heapify(arr, i,arr_heap_size)\n"
   ]
  },
  {
   "cell_type": "code",
   "execution_count": 233,
   "metadata": {},
   "outputs": [],
   "source": [
    "def heap_sort(arr):\n",
    "    build_max_heap(arr)\n",
    "    arr_heap_size = len(arr)\n",
    "    for i in range(len(arr)-1, 0, -1):\n",
    "        arr[0], arr[i] = arr[i], arr[0]\n",
    "        arr_heap_size -= 1\n",
    "        max_heapify(arr, 0,arr_heap_size)\n"
   ]
  },
  {
   "cell_type": "code",
   "execution_count": 234,
   "metadata": {},
   "outputs": [
    {
     "name": "stdout",
     "output_type": "stream",
     "text": [
      "[1, 2, 3, 4, 5]\n"
     ]
    }
   ],
   "source": [
    "my_list = [4, 2, 5, 1, 3]\n",
    "heap_sort(my_list)\n",
    "print(my_list)  # Output: [1, 2, 3, 4, 7]\n"
   ]
  },
  {
   "cell_type": "code",
   "execution_count": 235,
   "metadata": {},
   "outputs": [
    {
     "name": "stdout",
     "output_type": "stream",
     "text": [
      "The maxHeap is \n",
      "PARENT : 84LEFT CHILD : 22RIGHT CHILD : 19\n",
      "PARENT : 22LEFT CHILD : 17RIGHT CHILD : 10\n",
      "PARENT : 19LEFT CHILD : 5RIGHT CHILD : 6\n",
      "PARENT : 17LEFT CHILD : 3RIGHT CHILD : 9\n",
      "The Max val is 84\n"
     ]
    }
   ],
   "source": [
    "# Python3 implementation of Max Heap\n",
    "import sys\n",
    "\n",
    "class MaxHeap:\n",
    "\n",
    "\tdef __init__(self, maxsize):\n",
    "\t\t\n",
    "\t\tself.maxsize = maxsize\n",
    "\t\tself.size = 0\n",
    "\t\tself.Heap = [0] * (self.maxsize + 1)\n",
    "\t\tself.Heap[0] = sys.maxsize\n",
    "\t\tself.FRONT = 1\n",
    "\n",
    "\t# Function to return the position of\n",
    "\t# parent for the node currently\n",
    "\t# at pos\n",
    "\tdef parent(self, pos):\n",
    "\t\t\n",
    "\t\treturn pos // 2\n",
    "\n",
    "\t# Function to return the position of\n",
    "\t# the left child for the node currently\n",
    "\t# at pos\n",
    "\tdef leftChild(self, pos):\n",
    "\t\t\n",
    "\t\treturn 2 * pos\n",
    "\n",
    "\t# Function to return the position of\n",
    "\t# the right child for the node currently\n",
    "\t# at pos\n",
    "\tdef rightChild(self, pos):\n",
    "\t\t\n",
    "\t\treturn (2 * pos) + 1\n",
    "\n",
    "\t# Function that returns true if the passed\n",
    "\t# node is a leaf node\n",
    "\tdef isLeaf(self, pos):\n",
    "\t\t\n",
    "\t\tif pos >= (self.size//2) and pos <= self.size:\n",
    "\t\t\treturn True\n",
    "\t\treturn False\n",
    "\n",
    "\t# Function to swap two nodes of the heap\n",
    "\tdef swap(self, fpos, spos):\n",
    "\t\t\n",
    "\t\tself.Heap[fpos], self.Heap[spos] = (self.Heap[spos],\n",
    "\t\t\t\t\t\t\t\t\t\t\tself.Heap[fpos])\n",
    "\n",
    "\t# Function to heapify the node at pos\n",
    "\tdef maxHeapify(self, pos):\n",
    "\n",
    "\t\t# If the node is a non-leaf node and smaller\n",
    "\t\t# than any of its child\n",
    "\t\tif not self.isLeaf(pos):\n",
    "\t\t\tif (self.Heap[pos] < self.Heap[self.leftChild(pos)] or\n",
    "\t\t\t\tself.Heap[pos] < self.Heap[self.rightChild(pos)]):\n",
    "\n",
    "\t\t\t\t# Swap with the left child and heapify\n",
    "\t\t\t\t# the left child\n",
    "\t\t\t\tif (self.Heap[self.leftChild(pos)] >\n",
    "\t\t\t\t\tself.Heap[self.rightChild(pos)]):\n",
    "\t\t\t\t\tself.swap(pos, self.leftChild(pos))\n",
    "\t\t\t\t\tself.maxHeapify(self.leftChild(pos))\n",
    "\n",
    "\t\t\t\t# Swap with the right child and heapify\n",
    "\t\t\t\t# the right child\n",
    "\t\t\t\telse:\n",
    "\t\t\t\t\tself.swap(pos, self.rightChild(pos))\n",
    "\t\t\t\t\tself.maxHeapify(self.rightChild(pos))\n",
    "\n",
    "\t# Function to insert a node into the heap\n",
    "\tdef insert(self, element):\n",
    "\t\t\n",
    "\t\tif self.size >= self.maxsize:\n",
    "\t\t\treturn\n",
    "\t\tself.size += 1\n",
    "\t\tself.Heap[self.size] = element\n",
    "\n",
    "\t\tcurrent = self.size\n",
    "\n",
    "\t\twhile (self.Heap[current] >\n",
    "\t\t\tself.Heap[self.parent(current)]):\n",
    "\t\t\tself.swap(current, self.parent(current))\n",
    "\t\t\tcurrent = self.parent(current)\n",
    "\n",
    "\t# Function to print the contents of the heap\n",
    "\tdef Print(self):\n",
    "\t\t\n",
    "\t\tfor i in range(1, (self.size // 2) + 1):\n",
    "\t\t\tprint(\"PARENT : \" + str(self.Heap[i]) +\n",
    "\t\t\t\t\"LEFT CHILD : \" + str(self.Heap[2 * i]) +\n",
    "\t\t\t\t\"RIGHT CHILD : \" + str(self.Heap[2 * i + 1]))\n",
    "\n",
    "\t# Function to remove and return the maximum\n",
    "\t# element from the heap\n",
    "\tdef extractMax(self):\n",
    "\n",
    "\t\tpopped = self.Heap[self.FRONT]\n",
    "\t\tself.Heap[self.FRONT] = self.Heap[self.size]\n",
    "\t\tself.size -= 1\n",
    "\t\tself.maxHeapify(self.FRONT)\n",
    "\t\t\n",
    "\t\treturn popped\n",
    "\n",
    "# Driver Code\n",
    "if __name__ == \"__main__\":\n",
    "\t\n",
    "\tprint('The maxHeap is ')\n",
    "\t\n",
    "\tmaxHeap = MaxHeap(15)\n",
    "\tmaxHeap.insert(5)\n",
    "\tmaxHeap.insert(3)\n",
    "\tmaxHeap.insert(17)\n",
    "\tmaxHeap.insert(10)\n",
    "\tmaxHeap.insert(84)\n",
    "\tmaxHeap.insert(19)\n",
    "\tmaxHeap.insert(6)\n",
    "\tmaxHeap.insert(22)\n",
    "\tmaxHeap.insert(9)\n",
    "\n",
    "\tmaxHeap.Print()\n",
    "\t\n",
    "\tprint(\"The Max val is \" + str(maxHeap.extractMax()))\n"
   ]
  },
  {
   "cell_type": "code",
   "execution_count": 236,
   "metadata": {},
   "outputs": [
    {
     "name": "stdout",
     "output_type": "stream",
     "text": [
      "Head value of heap : 400\n",
      "The heap elements : \n",
      "400 30 20 10 \n",
      "\n",
      "The heap elements : \n",
      "30 10 20 "
     ]
    }
   ],
   "source": [
    "# Python3 program to demonstrate working of heapq\n",
    "\n",
    "from heapq import heappop, heappush, heapify\n",
    "\n",
    "# Creating empty heap\n",
    "heap = []\n",
    "heapify(heap)\n",
    "\n",
    "# Adding items to the heap using heappush\n",
    "# function by multiplying them with -1\n",
    "heappush(heap, -1 * 10)\n",
    "heappush(heap, -1 * 30)\n",
    "heappush(heap, -1 * 20)\n",
    "heappush(heap, -1 * 400)\n",
    "\n",
    "# printing the value of maximum element\n",
    "print(\"Head value of heap : \" + str(-1 * heap[0]))\n",
    "\n",
    "# printing the elements of the heap\n",
    "print(\"The heap elements : \")\n",
    "for i in heap:\n",
    "\tprint((-1*i), end=\" \")\n",
    "print(\"\\n\")\n",
    "\n",
    "element = heappop(heap)\n",
    "\n",
    "# printing the elements of the heap\n",
    "print(\"The heap elements : \")\n",
    "for i in heap:\n",
    "\tprint(-1 * i, end = ' ')\n"
   ]
  },
  {
   "cell_type": "code",
   "execution_count": 237,
   "metadata": {},
   "outputs": [],
   "source": [
    "\n",
    "def isValid( s):\n",
    "    \"\"\" \n",
    "     :type s: str\n",
    "     :rtype: bool\n",
    "     \"\"\"\n",
    "    stack = []\n",
    "   \n",
    "    dd_close ={ \"}\":\"{\",\n",
    "        \"]\":\"[\",    \n",
    "        \")\":\"(\"}\n",
    "    for bracket in s: \n",
    "        if bracket in '([{': \n",
    "            stack.append(bracket) \n",
    "        else: \n",
    "            \n",
    "            if not stack or (stack[-1] != dd_close[bracket]):\n",
    "                return False \n",
    "            stack.pop() \n",
    "    return not stack "
   ]
  },
  {
   "cell_type": "code",
   "execution_count": 238,
   "metadata": {},
   "outputs": [
    {
     "name": "stdout",
     "output_type": "stream",
     "text": [
      "True\n"
     ]
    }
   ],
   "source": [
    "result = isValid(\"{[]}\")\n",
    "print(result)"
   ]
  }
 ],
 "metadata": {
  "kernelspec": {
   "display_name": "base",
   "language": "python",
   "name": "python3"
  },
  "language_info": {
   "codemirror_mode": {
    "name": "ipython",
    "version": 3
   },
   "file_extension": ".py",
   "mimetype": "text/x-python",
   "name": "python",
   "nbconvert_exporter": "python",
   "pygments_lexer": "ipython3",
   "version": "3.9.12"
  },
  "orig_nbformat": 4
 },
 "nbformat": 4,
 "nbformat_minor": 2
}
